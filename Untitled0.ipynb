{
  "nbformat": 4,
  "nbformat_minor": 0,
  "metadata": {
    "colab": {
      "name": "Untitled0.ipynb",
      "provenance": [],
      "authorship_tag": "ABX9TyPg8Q/D3uZLsMqL4V2KPrdR",
      "include_colab_link": true
    },
    "kernelspec": {
      "name": "python3",
      "display_name": "Python 3"
    }
  },
  "cells": [
    {
      "cell_type": "markdown",
      "metadata": {
        "id": "view-in-github",
        "colab_type": "text"
      },
      "source": [
        "<a href=\"https://colab.research.google.com/github/HimabinduAmaravathi/Machine-Learning/blob/master/Untitled0.ipynb\" target=\"_parent\"><img src=\"https://colab.research.google.com/assets/colab-badge.svg\" alt=\"Open In Colab\"/></a>"
      ]
    },
    {
      "cell_type": "code",
      "metadata": {
        "id": "tqJG122C03wr",
        "colab_type": "code",
        "colab": {}
      },
      "source": [
        "import requests\n",
        "url=\"https://calendarific.com/api/v2/holidays&api_key=1f4a832a54c5c6b8bcd10a7855844dbf8d69eb0c&year=2020&country=\"\n",
        "while(1):\n",
        "  country=input(\"Give country name :\")\n",
        "  my_url=url+country\n",
        "  responses=requests.get(my_url)\n",
        "  Description=responses.content\n",
        "  print(\"Holidays description:\\n\\n\",Description)\n",
        "  print(\"\\n\")\n"
      ],
      "execution_count": 0,
      "outputs": []
    }
  ]
}